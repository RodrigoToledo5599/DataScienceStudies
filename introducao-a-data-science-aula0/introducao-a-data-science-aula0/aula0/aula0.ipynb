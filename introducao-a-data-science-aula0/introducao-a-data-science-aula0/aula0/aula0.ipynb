{
 "cells": [
  {
   "cell_type": "code",
   "execution_count": 35,
   "metadata": {},
   "outputs": [],
   "source": [
    "import pandas as pd\n",
    "\n",
    "# criando uma tabela (ou data frame ou oq quer que vc chame)\n",
    "df = pd.DataFrame({\n",
    "    \"name\" : [\"Rodrigo\", \"Pedro\", \"Bruno\"],\n",
    "    \"idade\" : [\"25\" , \"34\" , \"45\"]\n",
    "})\n",
    "\n",
    "# obs o jupyter nao vai mostrar mais de 1 data set por vez\n",
    "# print(\"maior idade: \", df[\"idade\"].max())\n",
    "df # mostra o data frame"
   ]
  },
  {
   "cell_type": "code",
   "execution_count": null,
   "metadata": {},
   "outputs": [],
   "source": [
    "notas = pd.read_csv('ml-latest-small/movies.csv')\n",
    "# notas.head()\n"
   ]
  }
 ],
 "metadata": {
  "kernelspec": {
   "display_name": "Python 3",
   "language": "python",
   "name": "python3"
  },
  "language_info": {
   "codemirror_mode": {
    "name": "ipython",
    "version": 3
   },
   "file_extension": ".py",
   "mimetype": "text/x-python",
   "name": "python",
   "nbconvert_exporter": "python",
   "pygments_lexer": "ipython3",
   "version": "3.10.4"
  }
 },
 "nbformat": 4,
 "nbformat_minor": 2
}
